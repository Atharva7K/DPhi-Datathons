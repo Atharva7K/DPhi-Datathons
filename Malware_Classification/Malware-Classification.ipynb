{
 "cells": [
  {
   "cell_type": "markdown",
   "metadata": {},
   "source": [
    "# Data Sprint #21: Classification of Malware with PE headers"
   ]
  },
  {
   "cell_type": "markdown",
   "metadata": {},
   "source": [
    "### About the Data\n",
    "\n",
    "        Dataset is related to Portable Executable files for malware detection. There are 55 features in the dataset \n",
    "        (excluding target variable). The features consist of 19 image dos headers, 7 file headers and 29 optional headers.\n",
    "\n",
    "   #### IMAGE_DOS_HEADER (19)\n",
    "\n",
    "        \"e_magic\", \"e_cblp\", \"e_cp\",\"e_crlc\",\"e_cparhdr\",\n",
    "        \"e_minalloc\",\"e_maxalloc\",\"e_ss\",\"e_sp\",\n",
    "        \"e_csum\",\"e_ip\",\"e_cs\",\"e_lfarlc\",\"e_ovno\",\"e_res\",\n",
    "        \"e_oemid\",\"e_oeminfo\",\"e_res2\",\"e_lfanew\"\n",
    "        \n",
    "   #### FILE_HEADER (7)\n",
    "\n",
    "        \"Machine\",\"NumberOfSections\",\"CreationYear\",\"PointerToSymbolTable\",\n",
    "        \"NumberOfSymbols\",\"SizeOfOptionalHeader\",\"Characteristics\"\n",
    "        \n",
    "   #### OPTIONAL_HEADER (29)\n",
    "\n",
    "        \"Magic\", \"MajorLinkerVersion\", \"MinorLinkerVersion\", \"SizeOfCode\", \"SizeOfInitializedData\", \n",
    "        \"SizeOfUninitializedData\", \"AddressOfEntryPoint\",\n",
    "        \"BaseOfCode\", \"BaseOfData\", \"ImageBase\", \"SectionAlignment\", \"FileAlignment\",\n",
    "        \"MajorOperatingSystemVersion\", \"MinorOperatingSystemVersion\",\n",
    "        \"MajorImageVersion\", \"MinorImageVersion\", \"MajorSubsystemVersion\",\n",
    "        \"MinorSubsystemVersion\", \"SizeOfImage\", \"SizeOfHeaders\", \"CheckSum\",\n",
    "        \"Subsystem\", \"DllCharacteristics\", \"SizeOfStackReserve\", \"SizeOfStackCommit\",\n",
    "        \"SizeOfHeapReserve\", \"SizeOfHeapCommit\", \"LoaderFlags\", \"NumberOfRvaAndSizes\"\n",
    "        \n",
    "\n",
    "        The first field, e_magic, is the so-called magic number. \n",
    "        This field is used to identify an MS-DOS-compatible file type. \n",
    "        \n",
    "  #### TARGET_VARIABLE: \n",
    "        class - 0 (benign), 1 (malware)"
   ]
  },
  {
   "cell_type": "code",
   "execution_count": 1,
   "metadata": {},
   "outputs": [],
   "source": [
    "import pandas as pd\n",
    "import numpy as np\n",
    "import matplotlib.pyplot as plt\n",
    "import seaborn as sns\n",
    "import warnings\n",
    "warnings.filterwarnings('ignore')"
   ]
  },
  {
   "cell_type": "code",
   "execution_count": 2,
   "metadata": {},
   "outputs": [],
   "source": [
    "from sklearn.preprocessing import StandardScaler\n",
    "from sklearn.model_selection import train_test_split\n",
    "from sklearn.model_selection import KFold\n",
    "from sklearn.model_selection import StratifiedKFold\n",
    "from sklearn.model_selection import cross_val_score\n",
    "from sklearn.model_selection import RandomizedSearchCV\n",
    "from sklearn.model_selection import GridSearchCV\n",
    "\n",
    "from sklearn.metrics import classification_report\n",
    "from sklearn.metrics import confusion_matrix\n",
    "from sklearn.metrics import accuracy_score\n",
    "from sklearn.metrics import f1_score\n",
    "from sklearn.pipeline import Pipeline\n",
    "from sklearn.linear_model import LogisticRegression\n",
    "from sklearn.tree import DecisionTreeClassifier\n",
    "from sklearn.neighbors import KNeighborsClassifier\n",
    "from sklearn.discriminant_analysis import LinearDiscriminantAnalysis\n",
    "from sklearn.naive_bayes import GaussianNB\n",
    "from sklearn.svm import SVC\n",
    "from sklearn.ensemble import AdaBoostClassifier\n",
    "from sklearn.ensemble import GradientBoostingClassifier\n",
    "from sklearn.ensemble import RandomForestClassifier\n",
    "from sklearn.ensemble import ExtraTreesClassifier\n",
    "from sklearn.ensemble import VotingClassifier\n",
    "\n",
    "from imblearn.over_sampling import RandomOverSampler\n",
    "from collections import Counter"
   ]
  },
  {
   "cell_type": "code",
   "execution_count": 3,
   "metadata": {},
   "outputs": [],
   "source": [
    "SEED = 7"
   ]
  },
  {
   "cell_type": "code",
   "execution_count": 4,
   "metadata": {},
   "outputs": [
    {
     "data": {
      "text/html": [
       "<div>\n",
       "<style scoped>\n",
       "    .dataframe tbody tr th:only-of-type {\n",
       "        vertical-align: middle;\n",
       "    }\n",
       "\n",
       "    .dataframe tbody tr th {\n",
       "        vertical-align: top;\n",
       "    }\n",
       "\n",
       "    .dataframe thead th {\n",
       "        text-align: right;\n",
       "    }\n",
       "</style>\n",
       "<table border=\"1\" class=\"dataframe\">\n",
       "  <thead>\n",
       "    <tr style=\"text-align: right;\">\n",
       "      <th></th>\n",
       "      <th>e_magic</th>\n",
       "      <th>e_cblp</th>\n",
       "      <th>e_cp</th>\n",
       "      <th>e_crlc</th>\n",
       "      <th>e_cparhdr</th>\n",
       "      <th>e_minalloc</th>\n",
       "      <th>e_maxalloc</th>\n",
       "      <th>e_ss</th>\n",
       "      <th>e_sp</th>\n",
       "      <th>e_csum</th>\n",
       "      <th>...</th>\n",
       "      <th>CheckSum</th>\n",
       "      <th>Subsystem</th>\n",
       "      <th>DllCharacteristics</th>\n",
       "      <th>SizeOfStackReserve</th>\n",
       "      <th>SizeOfStackCommit</th>\n",
       "      <th>SizeOfHeapReserve</th>\n",
       "      <th>SizeOfHeapCommit</th>\n",
       "      <th>LoaderFlags</th>\n",
       "      <th>NumberOfRvaAndSizes</th>\n",
       "      <th>class</th>\n",
       "    </tr>\n",
       "  </thead>\n",
       "  <tbody>\n",
       "    <tr>\n",
       "      <th>0</th>\n",
       "      <td>23117</td>\n",
       "      <td>144</td>\n",
       "      <td>3</td>\n",
       "      <td>0</td>\n",
       "      <td>4</td>\n",
       "      <td>0</td>\n",
       "      <td>65535</td>\n",
       "      <td>0</td>\n",
       "      <td>184</td>\n",
       "      <td>0</td>\n",
       "      <td>...</td>\n",
       "      <td>115397</td>\n",
       "      <td>2</td>\n",
       "      <td>33792</td>\n",
       "      <td>1048576</td>\n",
       "      <td>4096</td>\n",
       "      <td>1048576</td>\n",
       "      <td>4096</td>\n",
       "      <td>0</td>\n",
       "      <td>16</td>\n",
       "      <td>1</td>\n",
       "    </tr>\n",
       "    <tr>\n",
       "      <th>1</th>\n",
       "      <td>23117</td>\n",
       "      <td>144</td>\n",
       "      <td>3</td>\n",
       "      <td>0</td>\n",
       "      <td>4</td>\n",
       "      <td>0</td>\n",
       "      <td>65535</td>\n",
       "      <td>0</td>\n",
       "      <td>184</td>\n",
       "      <td>0</td>\n",
       "      <td>...</td>\n",
       "      <td>0</td>\n",
       "      <td>2</td>\n",
       "      <td>0</td>\n",
       "      <td>10485760</td>\n",
       "      <td>40960</td>\n",
       "      <td>6291456</td>\n",
       "      <td>16384</td>\n",
       "      <td>0</td>\n",
       "      <td>16</td>\n",
       "      <td>1</td>\n",
       "    </tr>\n",
       "    <tr>\n",
       "      <th>2</th>\n",
       "      <td>23117</td>\n",
       "      <td>144</td>\n",
       "      <td>3</td>\n",
       "      <td>0</td>\n",
       "      <td>4</td>\n",
       "      <td>0</td>\n",
       "      <td>65535</td>\n",
       "      <td>0</td>\n",
       "      <td>184</td>\n",
       "      <td>0</td>\n",
       "      <td>...</td>\n",
       "      <td>0</td>\n",
       "      <td>2</td>\n",
       "      <td>0</td>\n",
       "      <td>1048576</td>\n",
       "      <td>4096</td>\n",
       "      <td>1048576</td>\n",
       "      <td>4096</td>\n",
       "      <td>0</td>\n",
       "      <td>16</td>\n",
       "      <td>0</td>\n",
       "    </tr>\n",
       "    <tr>\n",
       "      <th>3</th>\n",
       "      <td>23117</td>\n",
       "      <td>144</td>\n",
       "      <td>3</td>\n",
       "      <td>0</td>\n",
       "      <td>4</td>\n",
       "      <td>0</td>\n",
       "      <td>65535</td>\n",
       "      <td>0</td>\n",
       "      <td>184</td>\n",
       "      <td>0</td>\n",
       "      <td>...</td>\n",
       "      <td>142244</td>\n",
       "      <td>2</td>\n",
       "      <td>33088</td>\n",
       "      <td>262144</td>\n",
       "      <td>8192</td>\n",
       "      <td>1048576</td>\n",
       "      <td>4096</td>\n",
       "      <td>0</td>\n",
       "      <td>16</td>\n",
       "      <td>0</td>\n",
       "    </tr>\n",
       "    <tr>\n",
       "      <th>4</th>\n",
       "      <td>23117</td>\n",
       "      <td>144</td>\n",
       "      <td>3</td>\n",
       "      <td>0</td>\n",
       "      <td>4</td>\n",
       "      <td>0</td>\n",
       "      <td>65535</td>\n",
       "      <td>0</td>\n",
       "      <td>184</td>\n",
       "      <td>0</td>\n",
       "      <td>...</td>\n",
       "      <td>60601</td>\n",
       "      <td>2</td>\n",
       "      <td>1024</td>\n",
       "      <td>1048576</td>\n",
       "      <td>4096</td>\n",
       "      <td>1048576</td>\n",
       "      <td>4096</td>\n",
       "      <td>0</td>\n",
       "      <td>16</td>\n",
       "      <td>0</td>\n",
       "    </tr>\n",
       "  </tbody>\n",
       "</table>\n",
       "<p>5 rows × 56 columns</p>\n",
       "</div>"
      ],
      "text/plain": [
       "   e_magic  e_cblp  e_cp  e_crlc  e_cparhdr  e_minalloc  e_maxalloc  e_ss  \\\n",
       "0    23117     144     3       0          4           0       65535     0   \n",
       "1    23117     144     3       0          4           0       65535     0   \n",
       "2    23117     144     3       0          4           0       65535     0   \n",
       "3    23117     144     3       0          4           0       65535     0   \n",
       "4    23117     144     3       0          4           0       65535     0   \n",
       "\n",
       "   e_sp  e_csum  ...  CheckSum  Subsystem  DllCharacteristics  \\\n",
       "0   184       0  ...    115397          2               33792   \n",
       "1   184       0  ...         0          2                   0   \n",
       "2   184       0  ...         0          2                   0   \n",
       "3   184       0  ...    142244          2               33088   \n",
       "4   184       0  ...     60601          2                1024   \n",
       "\n",
       "   SizeOfStackReserve  SizeOfStackCommit  SizeOfHeapReserve  SizeOfHeapCommit  \\\n",
       "0             1048576               4096            1048576              4096   \n",
       "1            10485760              40960            6291456             16384   \n",
       "2             1048576               4096            1048576              4096   \n",
       "3              262144               8192            1048576              4096   \n",
       "4             1048576               4096            1048576              4096   \n",
       "\n",
       "   LoaderFlags  NumberOfRvaAndSizes  class  \n",
       "0            0                   16      1  \n",
       "1            0                   16      1  \n",
       "2            0                   16      0  \n",
       "3            0                   16      0  \n",
       "4            0                   16      0  \n",
       "\n",
       "[5 rows x 56 columns]"
      ]
     },
     "execution_count": 4,
     "metadata": {},
     "output_type": "execute_result"
    }
   ],
   "source": [
    "data = pd.read_csv('MalwareData.csv')\n",
    "data.head()"
   ]
  },
  {
   "cell_type": "code",
   "execution_count": 5,
   "metadata": {},
   "outputs": [
    {
     "data": {
      "text/plain": [
       "(3888, 56)"
      ]
     },
     "execution_count": 5,
     "metadata": {},
     "output_type": "execute_result"
    }
   ],
   "source": [
    "data.shape"
   ]
  },
  {
   "cell_type": "code",
   "execution_count": 6,
   "metadata": {},
   "outputs": [
    {
     "name": "stdout",
     "output_type": "stream",
     "text": [
      "<class 'pandas.core.frame.DataFrame'>\n",
      "RangeIndex: 3888 entries, 0 to 3887\n",
      "Data columns (total 56 columns):\n",
      " #   Column                       Non-Null Count  Dtype  \n",
      "---  ------                       --------------  -----  \n",
      " 0   e_magic                      3888 non-null   int64  \n",
      " 1   e_cblp                       3888 non-null   int64  \n",
      " 2   e_cp                         3888 non-null   int64  \n",
      " 3   e_crlc                       3888 non-null   int64  \n",
      " 4   e_cparhdr                    3888 non-null   int64  \n",
      " 5   e_minalloc                   3888 non-null   int64  \n",
      " 6   e_maxalloc                   3888 non-null   int64  \n",
      " 7   e_ss                         3888 non-null   int64  \n",
      " 8   e_sp                         3888 non-null   int64  \n",
      " 9   e_csum                       3888 non-null   int64  \n",
      " 10  e_ip                         3888 non-null   int64  \n",
      " 11  e_cs                         3888 non-null   int64  \n",
      " 12  e_lfarlc                     3888 non-null   int64  \n",
      " 13  e_ovno                       3888 non-null   int64  \n",
      " 14  e_res                        0 non-null      float64\n",
      " 15  e_oemid                      3888 non-null   int64  \n",
      " 16  e_oeminfo                    3888 non-null   int64  \n",
      " 17  e_res2                       0 non-null      float64\n",
      " 18  e_lfanew                     3888 non-null   int64  \n",
      " 19  Machine                      3888 non-null   int64  \n",
      " 20  NumberOfSections             3888 non-null   int64  \n",
      " 21  CreationYear                 3888 non-null   int64  \n",
      " 22  PointerToSymbolTable         3888 non-null   int64  \n",
      " 23  NumberOfSymbols              3888 non-null   int64  \n",
      " 24  SizeOfOptionalHeader         3888 non-null   int64  \n",
      " 25  Characteristics              3888 non-null   int64  \n",
      " 26  Magic                        3888 non-null   int64  \n",
      " 27  MajorLinkerVersion           3888 non-null   int64  \n",
      " 28  MinorLinkerVersion           3888 non-null   int64  \n",
      " 29  SizeOfCode                   3888 non-null   int64  \n",
      " 30  SizeOfInitializedData        3888 non-null   int64  \n",
      " 31  SizeOfUninitializedData      3888 non-null   int64  \n",
      " 32  AddressOfEntryPoint          3888 non-null   int64  \n",
      " 33  BaseOfCode                   3888 non-null   int64  \n",
      " 34  BaseOfData                   3888 non-null   int64  \n",
      " 35  ImageBase                    3888 non-null   int64  \n",
      " 36  SectionAlignment             3888 non-null   int64  \n",
      " 37  FileAlignment                3888 non-null   int64  \n",
      " 38  MajorOperatingSystemVersion  3888 non-null   int64  \n",
      " 39  MinorOperatingSystemVersion  3888 non-null   int64  \n",
      " 40  MajorImageVersion            3888 non-null   int64  \n",
      " 41  MinorImageVersion            3888 non-null   int64  \n",
      " 42  MajorSubsystemVersion        3888 non-null   int64  \n",
      " 43  MinorSubsystemVersion        3888 non-null   int64  \n",
      " 44  SizeOfImage                  3888 non-null   int64  \n",
      " 45  SizeOfHeaders                3888 non-null   int64  \n",
      " 46  CheckSum                     3888 non-null   int64  \n",
      " 47  Subsystem                    3888 non-null   int64  \n",
      " 48  DllCharacteristics           3888 non-null   int64  \n",
      " 49  SizeOfStackReserve           3888 non-null   int64  \n",
      " 50  SizeOfStackCommit            3888 non-null   int64  \n",
      " 51  SizeOfHeapReserve            3888 non-null   int64  \n",
      " 52  SizeOfHeapCommit             3888 non-null   int64  \n",
      " 53  LoaderFlags                  3888 non-null   int64  \n",
      " 54  NumberOfRvaAndSizes          3888 non-null   int64  \n",
      " 55  class                        3888 non-null   int64  \n",
      "dtypes: float64(2), int64(54)\n",
      "memory usage: 1.7 MB\n"
     ]
    }
   ],
   "source": [
    "data.info()"
   ]
  },
  {
   "cell_type": "code",
   "execution_count": 7,
   "metadata": {
    "collapsed": true
   },
   "outputs": [
    {
     "data": {
      "text/plain": [
       "e_magic                           0\n",
       "e_cblp                            0\n",
       "e_cp                              0\n",
       "e_crlc                            0\n",
       "e_cparhdr                         0\n",
       "e_minalloc                        0\n",
       "e_maxalloc                        0\n",
       "e_ss                              0\n",
       "e_sp                              0\n",
       "e_csum                            0\n",
       "e_ip                              0\n",
       "e_cs                              0\n",
       "e_lfarlc                          0\n",
       "e_ovno                            0\n",
       "e_res                          3888\n",
       "e_oemid                           0\n",
       "e_oeminfo                         0\n",
       "e_res2                         3888\n",
       "e_lfanew                          0\n",
       "Machine                           0\n",
       "NumberOfSections                  0\n",
       "CreationYear                      0\n",
       "PointerToSymbolTable              0\n",
       "NumberOfSymbols                   0\n",
       "SizeOfOptionalHeader              0\n",
       "Characteristics                   0\n",
       "Magic                             0\n",
       "MajorLinkerVersion                0\n",
       "MinorLinkerVersion                0\n",
       "SizeOfCode                        0\n",
       "SizeOfInitializedData             0\n",
       "SizeOfUninitializedData           0\n",
       "AddressOfEntryPoint               0\n",
       "BaseOfCode                        0\n",
       "BaseOfData                        0\n",
       "ImageBase                         0\n",
       "SectionAlignment                  0\n",
       "FileAlignment                     0\n",
       "MajorOperatingSystemVersion       0\n",
       "MinorOperatingSystemVersion       0\n",
       "MajorImageVersion                 0\n",
       "MinorImageVersion                 0\n",
       "MajorSubsystemVersion             0\n",
       "MinorSubsystemVersion             0\n",
       "SizeOfImage                       0\n",
       "SizeOfHeaders                     0\n",
       "CheckSum                          0\n",
       "Subsystem                         0\n",
       "DllCharacteristics                0\n",
       "SizeOfStackReserve                0\n",
       "SizeOfStackCommit                 0\n",
       "SizeOfHeapReserve                 0\n",
       "SizeOfHeapCommit                  0\n",
       "LoaderFlags                       0\n",
       "NumberOfRvaAndSizes               0\n",
       "class                             0\n",
       "dtype: int64"
      ]
     },
     "execution_count": 7,
     "metadata": {},
     "output_type": "execute_result"
    }
   ],
   "source": [
    "data.isnull().sum()"
   ]
  },
  {
   "cell_type": "code",
   "execution_count": 8,
   "metadata": {},
   "outputs": [
    {
     "data": {
      "text/html": [
       "<div>\n",
       "<style scoped>\n",
       "    .dataframe tbody tr th:only-of-type {\n",
       "        vertical-align: middle;\n",
       "    }\n",
       "\n",
       "    .dataframe tbody tr th {\n",
       "        vertical-align: top;\n",
       "    }\n",
       "\n",
       "    .dataframe thead th {\n",
       "        text-align: right;\n",
       "    }\n",
       "</style>\n",
       "<table border=\"1\" class=\"dataframe\">\n",
       "  <thead>\n",
       "    <tr style=\"text-align: right;\">\n",
       "      <th></th>\n",
       "      <th>e_magic</th>\n",
       "      <th>e_cblp</th>\n",
       "      <th>e_cp</th>\n",
       "      <th>e_crlc</th>\n",
       "      <th>e_cparhdr</th>\n",
       "      <th>e_minalloc</th>\n",
       "      <th>e_maxalloc</th>\n",
       "      <th>e_ss</th>\n",
       "      <th>e_sp</th>\n",
       "      <th>e_csum</th>\n",
       "      <th>...</th>\n",
       "      <th>CheckSum</th>\n",
       "      <th>Subsystem</th>\n",
       "      <th>DllCharacteristics</th>\n",
       "      <th>SizeOfStackReserve</th>\n",
       "      <th>SizeOfStackCommit</th>\n",
       "      <th>SizeOfHeapReserve</th>\n",
       "      <th>SizeOfHeapCommit</th>\n",
       "      <th>LoaderFlags</th>\n",
       "      <th>NumberOfRvaAndSizes</th>\n",
       "      <th>class</th>\n",
       "    </tr>\n",
       "  </thead>\n",
       "  <tbody>\n",
       "    <tr>\n",
       "      <th>e_magic</th>\n",
       "      <td>NaN</td>\n",
       "      <td>NaN</td>\n",
       "      <td>NaN</td>\n",
       "      <td>NaN</td>\n",
       "      <td>NaN</td>\n",
       "      <td>NaN</td>\n",
       "      <td>NaN</td>\n",
       "      <td>NaN</td>\n",
       "      <td>NaN</td>\n",
       "      <td>NaN</td>\n",
       "      <td>...</td>\n",
       "      <td>NaN</td>\n",
       "      <td>NaN</td>\n",
       "      <td>NaN</td>\n",
       "      <td>NaN</td>\n",
       "      <td>NaN</td>\n",
       "      <td>NaN</td>\n",
       "      <td>NaN</td>\n",
       "      <td>NaN</td>\n",
       "      <td>NaN</td>\n",
       "      <td>NaN</td>\n",
       "    </tr>\n",
       "    <tr>\n",
       "      <th>e_cblp</th>\n",
       "      <td>NaN</td>\n",
       "      <td>1.000000</td>\n",
       "      <td>0.991646</td>\n",
       "      <td>NaN</td>\n",
       "      <td>-0.160597</td>\n",
       "      <td>-0.004072</td>\n",
       "      <td>-0.184235</td>\n",
       "      <td>-0.002285</td>\n",
       "      <td>-0.004813</td>\n",
       "      <td>-0.000188</td>\n",
       "      <td>...</td>\n",
       "      <td>-0.000226</td>\n",
       "      <td>-0.002031</td>\n",
       "      <td>-0.007984</td>\n",
       "      <td>-0.001539</td>\n",
       "      <td>-0.001506</td>\n",
       "      <td>-0.001730</td>\n",
       "      <td>-0.002546</td>\n",
       "      <td>-0.00158</td>\n",
       "      <td>0.000302</td>\n",
       "      <td>0.009586</td>\n",
       "    </tr>\n",
       "    <tr>\n",
       "      <th>e_cp</th>\n",
       "      <td>NaN</td>\n",
       "      <td>0.991646</td>\n",
       "      <td>1.000000</td>\n",
       "      <td>NaN</td>\n",
       "      <td>-0.092625</td>\n",
       "      <td>-0.020386</td>\n",
       "      <td>-0.108101</td>\n",
       "      <td>-0.013631</td>\n",
       "      <td>-0.015435</td>\n",
       "      <td>0.000606</td>\n",
       "      <td>...</td>\n",
       "      <td>0.000431</td>\n",
       "      <td>0.006677</td>\n",
       "      <td>-0.001415</td>\n",
       "      <td>0.005063</td>\n",
       "      <td>-0.002009</td>\n",
       "      <td>0.004193</td>\n",
       "      <td>0.003982</td>\n",
       "      <td>-0.00515</td>\n",
       "      <td>-0.000973</td>\n",
       "      <td>-0.011097</td>\n",
       "    </tr>\n",
       "    <tr>\n",
       "      <th>e_crlc</th>\n",
       "      <td>NaN</td>\n",
       "      <td>NaN</td>\n",
       "      <td>NaN</td>\n",
       "      <td>NaN</td>\n",
       "      <td>NaN</td>\n",
       "      <td>NaN</td>\n",
       "      <td>NaN</td>\n",
       "      <td>NaN</td>\n",
       "      <td>NaN</td>\n",
       "      <td>NaN</td>\n",
       "      <td>...</td>\n",
       "      <td>NaN</td>\n",
       "      <td>NaN</td>\n",
       "      <td>NaN</td>\n",
       "      <td>NaN</td>\n",
       "      <td>NaN</td>\n",
       "      <td>NaN</td>\n",
       "      <td>NaN</td>\n",
       "      <td>NaN</td>\n",
       "      <td>NaN</td>\n",
       "      <td>NaN</td>\n",
       "    </tr>\n",
       "    <tr>\n",
       "      <th>e_cparhdr</th>\n",
       "      <td>NaN</td>\n",
       "      <td>-0.160597</td>\n",
       "      <td>-0.092625</td>\n",
       "      <td>NaN</td>\n",
       "      <td>1.000000</td>\n",
       "      <td>-0.002329</td>\n",
       "      <td>0.828384</td>\n",
       "      <td>0.001455</td>\n",
       "      <td>0.017205</td>\n",
       "      <td>0.002377</td>\n",
       "      <td>...</td>\n",
       "      <td>0.002278</td>\n",
       "      <td>0.037409</td>\n",
       "      <td>-0.038135</td>\n",
       "      <td>0.019246</td>\n",
       "      <td>0.007428</td>\n",
       "      <td>0.021682</td>\n",
       "      <td>0.024091</td>\n",
       "      <td>0.00213</td>\n",
       "      <td>-0.003817</td>\n",
       "      <td>-0.081856</td>\n",
       "    </tr>\n",
       "  </tbody>\n",
       "</table>\n",
       "<p>5 rows × 56 columns</p>\n",
       "</div>"
      ],
      "text/plain": [
       "           e_magic    e_cblp      e_cp  e_crlc  e_cparhdr  e_minalloc  \\\n",
       "e_magic        NaN       NaN       NaN     NaN        NaN         NaN   \n",
       "e_cblp         NaN  1.000000  0.991646     NaN  -0.160597   -0.004072   \n",
       "e_cp           NaN  0.991646  1.000000     NaN  -0.092625   -0.020386   \n",
       "e_crlc         NaN       NaN       NaN     NaN        NaN         NaN   \n",
       "e_cparhdr      NaN -0.160597 -0.092625     NaN   1.000000   -0.002329   \n",
       "\n",
       "           e_maxalloc      e_ss      e_sp    e_csum  ...  CheckSum  Subsystem  \\\n",
       "e_magic           NaN       NaN       NaN       NaN  ...       NaN        NaN   \n",
       "e_cblp      -0.184235 -0.002285 -0.004813 -0.000188  ... -0.000226  -0.002031   \n",
       "e_cp        -0.108101 -0.013631 -0.015435  0.000606  ...  0.000431   0.006677   \n",
       "e_crlc            NaN       NaN       NaN       NaN  ...       NaN        NaN   \n",
       "e_cparhdr    0.828384  0.001455  0.017205  0.002377  ...  0.002278   0.037409   \n",
       "\n",
       "           DllCharacteristics  SizeOfStackReserve  SizeOfStackCommit  \\\n",
       "e_magic                   NaN                 NaN                NaN   \n",
       "e_cblp              -0.007984           -0.001539          -0.001506   \n",
       "e_cp                -0.001415            0.005063          -0.002009   \n",
       "e_crlc                    NaN                 NaN                NaN   \n",
       "e_cparhdr           -0.038135            0.019246           0.007428   \n",
       "\n",
       "           SizeOfHeapReserve  SizeOfHeapCommit  LoaderFlags  \\\n",
       "e_magic                  NaN               NaN          NaN   \n",
       "e_cblp             -0.001730         -0.002546     -0.00158   \n",
       "e_cp                0.004193          0.003982     -0.00515   \n",
       "e_crlc                   NaN               NaN          NaN   \n",
       "e_cparhdr           0.021682          0.024091      0.00213   \n",
       "\n",
       "           NumberOfRvaAndSizes     class  \n",
       "e_magic                    NaN       NaN  \n",
       "e_cblp                0.000302  0.009586  \n",
       "e_cp                 -0.000973 -0.011097  \n",
       "e_crlc                     NaN       NaN  \n",
       "e_cparhdr            -0.003817 -0.081856  \n",
       "\n",
       "[5 rows x 56 columns]"
      ]
     },
     "execution_count": 8,
     "metadata": {},
     "output_type": "execute_result"
    }
   ],
   "source": [
    "corrs = pd.DataFrame(data.corr())\n",
    "corrs.head()"
   ]
  },
  {
   "cell_type": "code",
   "execution_count": 9,
   "metadata": {},
   "outputs": [
    {
     "data": {
      "text/plain": [
       "(3888, 54)"
      ]
     },
     "execution_count": 9,
     "metadata": {},
     "output_type": "execute_result"
    }
   ],
   "source": [
    "data.drop(columns = ['e_res', 'e_res2'], inplace = True, axis = 'columns')\n",
    "data.shape"
   ]
  },
  {
   "cell_type": "code",
   "execution_count": 65,
   "metadata": {},
   "outputs": [
    {
     "data": {
      "text/html": [
       "<div>\n",
       "<style scoped>\n",
       "    .dataframe tbody tr th:only-of-type {\n",
       "        vertical-align: middle;\n",
       "    }\n",
       "\n",
       "    .dataframe tbody tr th {\n",
       "        vertical-align: top;\n",
       "    }\n",
       "\n",
       "    .dataframe thead th {\n",
       "        text-align: right;\n",
       "    }\n",
       "</style>\n",
       "<table border=\"1\" class=\"dataframe\">\n",
       "  <thead>\n",
       "    <tr style=\"text-align: right;\">\n",
       "      <th></th>\n",
       "      <th>e_magic</th>\n",
       "      <th>e_cblp</th>\n",
       "      <th>e_cp</th>\n",
       "      <th>e_crlc</th>\n",
       "      <th>e_cparhdr</th>\n",
       "      <th>e_minalloc</th>\n",
       "      <th>e_maxalloc</th>\n",
       "      <th>e_ss</th>\n",
       "      <th>e_sp</th>\n",
       "      <th>e_csum</th>\n",
       "      <th>...</th>\n",
       "      <th>CheckSum</th>\n",
       "      <th>Subsystem</th>\n",
       "      <th>DllCharacteristics</th>\n",
       "      <th>SizeOfStackReserve</th>\n",
       "      <th>SizeOfStackCommit</th>\n",
       "      <th>SizeOfHeapReserve</th>\n",
       "      <th>SizeOfHeapCommit</th>\n",
       "      <th>LoaderFlags</th>\n",
       "      <th>NumberOfRvaAndSizes</th>\n",
       "      <th>class</th>\n",
       "    </tr>\n",
       "  </thead>\n",
       "  <tbody>\n",
       "    <tr>\n",
       "      <th>count</th>\n",
       "      <td>3888.0</td>\n",
       "      <td>3888.000000</td>\n",
       "      <td>3888.000000</td>\n",
       "      <td>3888.0</td>\n",
       "      <td>3888.000000</td>\n",
       "      <td>3888.000000</td>\n",
       "      <td>3888.000000</td>\n",
       "      <td>3888.000000</td>\n",
       "      <td>3888.000000</td>\n",
       "      <td>3888.000000</td>\n",
       "      <td>...</td>\n",
       "      <td>3.888000e+03</td>\n",
       "      <td>3888.000000</td>\n",
       "      <td>3888.000000</td>\n",
       "      <td>3.888000e+03</td>\n",
       "      <td>3.888000e+03</td>\n",
       "      <td>3.888000e+03</td>\n",
       "      <td>3888.000000</td>\n",
       "      <td>3.888000e+03</td>\n",
       "      <td>3888.000000</td>\n",
       "      <td>3888.000000</td>\n",
       "    </tr>\n",
       "    <tr>\n",
       "      <th>mean</th>\n",
       "      <td>23117.0</td>\n",
       "      <td>148.252058</td>\n",
       "      <td>2.947016</td>\n",
       "      <td>0.0</td>\n",
       "      <td>3.967593</td>\n",
       "      <td>2.120885</td>\n",
       "      <td>65110.442901</td>\n",
       "      <td>16.851852</td>\n",
       "      <td>199.741255</td>\n",
       "      <td>0.001029</td>\n",
       "      <td>...</td>\n",
       "      <td>1.785479e+06</td>\n",
       "      <td>2.132202</td>\n",
       "      <td>9489.058899</td>\n",
       "      <td>2.008231e+06</td>\n",
       "      <td>1.072442e+04</td>\n",
       "      <td>2.065907e+06</td>\n",
       "      <td>5694.156379</td>\n",
       "      <td>3.151187e+04</td>\n",
       "      <td>15.972737</td>\n",
       "      <td>0.517490</td>\n",
       "    </tr>\n",
       "    <tr>\n",
       "      <th>std</th>\n",
       "      <td>0.0</td>\n",
       "      <td>591.610421</td>\n",
       "      <td>2.291419</td>\n",
       "      <td>0.0</td>\n",
       "      <td>0.357188</td>\n",
       "      <td>65.785975</td>\n",
       "      <td>5195.740601</td>\n",
       "      <td>1050.777490</td>\n",
       "      <td>1048.231580</td>\n",
       "      <td>0.039275</td>\n",
       "      <td>...</td>\n",
       "      <td>6.906378e+07</td>\n",
       "      <td>0.474741</td>\n",
       "      <td>14841.770405</td>\n",
       "      <td>4.682014e+06</td>\n",
       "      <td>8.256807e+04</td>\n",
       "      <td>4.397444e+06</td>\n",
       "      <td>6510.114435</td>\n",
       "      <td>1.342464e+06</td>\n",
       "      <td>0.648187</td>\n",
       "      <td>0.499758</td>\n",
       "    </tr>\n",
       "    <tr>\n",
       "      <th>min</th>\n",
       "      <td>23117.0</td>\n",
       "      <td>0.000000</td>\n",
       "      <td>0.000000</td>\n",
       "      <td>0.0</td>\n",
       "      <td>0.000000</td>\n",
       "      <td>0.000000</td>\n",
       "      <td>0.000000</td>\n",
       "      <td>0.000000</td>\n",
       "      <td>0.000000</td>\n",
       "      <td>0.000000</td>\n",
       "      <td>...</td>\n",
       "      <td>0.000000e+00</td>\n",
       "      <td>0.000000</td>\n",
       "      <td>0.000000</td>\n",
       "      <td>0.000000e+00</td>\n",
       "      <td>0.000000e+00</td>\n",
       "      <td>0.000000e+00</td>\n",
       "      <td>0.000000</td>\n",
       "      <td>0.000000e+00</td>\n",
       "      <td>0.000000</td>\n",
       "      <td>0.000000</td>\n",
       "    </tr>\n",
       "    <tr>\n",
       "      <th>25%</th>\n",
       "      <td>23117.0</td>\n",
       "      <td>144.000000</td>\n",
       "      <td>3.000000</td>\n",
       "      <td>0.0</td>\n",
       "      <td>4.000000</td>\n",
       "      <td>0.000000</td>\n",
       "      <td>65535.000000</td>\n",
       "      <td>0.000000</td>\n",
       "      <td>184.000000</td>\n",
       "      <td>0.000000</td>\n",
       "      <td>...</td>\n",
       "      <td>0.000000e+00</td>\n",
       "      <td>2.000000</td>\n",
       "      <td>0.000000</td>\n",
       "      <td>1.048576e+06</td>\n",
       "      <td>4.096000e+03</td>\n",
       "      <td>1.048576e+06</td>\n",
       "      <td>4096.000000</td>\n",
       "      <td>0.000000e+00</td>\n",
       "      <td>16.000000</td>\n",
       "      <td>0.000000</td>\n",
       "    </tr>\n",
       "    <tr>\n",
       "      <th>50%</th>\n",
       "      <td>23117.0</td>\n",
       "      <td>144.000000</td>\n",
       "      <td>3.000000</td>\n",
       "      <td>0.0</td>\n",
       "      <td>4.000000</td>\n",
       "      <td>0.000000</td>\n",
       "      <td>65535.000000</td>\n",
       "      <td>0.000000</td>\n",
       "      <td>184.000000</td>\n",
       "      <td>0.000000</td>\n",
       "      <td>...</td>\n",
       "      <td>7.894150e+04</td>\n",
       "      <td>2.000000</td>\n",
       "      <td>0.000000</td>\n",
       "      <td>1.048576e+06</td>\n",
       "      <td>4.096000e+03</td>\n",
       "      <td>1.048576e+06</td>\n",
       "      <td>4096.000000</td>\n",
       "      <td>0.000000e+00</td>\n",
       "      <td>16.000000</td>\n",
       "      <td>1.000000</td>\n",
       "    </tr>\n",
       "    <tr>\n",
       "      <th>75%</th>\n",
       "      <td>23117.0</td>\n",
       "      <td>144.000000</td>\n",
       "      <td>3.000000</td>\n",
       "      <td>0.0</td>\n",
       "      <td>4.000000</td>\n",
       "      <td>0.000000</td>\n",
       "      <td>65535.000000</td>\n",
       "      <td>0.000000</td>\n",
       "      <td>184.000000</td>\n",
       "      <td>0.000000</td>\n",
       "      <td>...</td>\n",
       "      <td>2.128122e+05</td>\n",
       "      <td>2.000000</td>\n",
       "      <td>32768.000000</td>\n",
       "      <td>1.048576e+06</td>\n",
       "      <td>8.192000e+03</td>\n",
       "      <td>1.048576e+06</td>\n",
       "      <td>4096.000000</td>\n",
       "      <td>0.000000e+00</td>\n",
       "      <td>16.000000</td>\n",
       "      <td>1.000000</td>\n",
       "    </tr>\n",
       "    <tr>\n",
       "      <th>max</th>\n",
       "      <td>23117.0</td>\n",
       "      <td>37008.000000</td>\n",
       "      <td>144.000000</td>\n",
       "      <td>0.0</td>\n",
       "      <td>4.000000</td>\n",
       "      <td>4096.000000</td>\n",
       "      <td>65535.000000</td>\n",
       "      <td>65520.000000</td>\n",
       "      <td>65534.000000</td>\n",
       "      <td>2.000000</td>\n",
       "      <td>...</td>\n",
       "      <td>4.294967e+09</td>\n",
       "      <td>16.000000</td>\n",
       "      <td>37184.000000</td>\n",
       "      <td>3.355443e+07</td>\n",
       "      <td>2.097152e+06</td>\n",
       "      <td>3.355443e+07</td>\n",
       "      <td>65536.000000</td>\n",
       "      <td>6.342951e+07</td>\n",
       "      <td>16.000000</td>\n",
       "      <td>1.000000</td>\n",
       "    </tr>\n",
       "  </tbody>\n",
       "</table>\n",
       "<p>8 rows × 54 columns</p>\n",
       "</div>"
      ],
      "text/plain": [
       "       e_magic        e_cblp         e_cp  e_crlc    e_cparhdr   e_minalloc  \\\n",
       "count   3888.0   3888.000000  3888.000000  3888.0  3888.000000  3888.000000   \n",
       "mean   23117.0    148.252058     2.947016     0.0     3.967593     2.120885   \n",
       "std        0.0    591.610421     2.291419     0.0     0.357188    65.785975   \n",
       "min    23117.0      0.000000     0.000000     0.0     0.000000     0.000000   \n",
       "25%    23117.0    144.000000     3.000000     0.0     4.000000     0.000000   \n",
       "50%    23117.0    144.000000     3.000000     0.0     4.000000     0.000000   \n",
       "75%    23117.0    144.000000     3.000000     0.0     4.000000     0.000000   \n",
       "max    23117.0  37008.000000   144.000000     0.0     4.000000  4096.000000   \n",
       "\n",
       "         e_maxalloc          e_ss          e_sp       e_csum  ...  \\\n",
       "count   3888.000000   3888.000000   3888.000000  3888.000000  ...   \n",
       "mean   65110.442901     16.851852    199.741255     0.001029  ...   \n",
       "std     5195.740601   1050.777490   1048.231580     0.039275  ...   \n",
       "min        0.000000      0.000000      0.000000     0.000000  ...   \n",
       "25%    65535.000000      0.000000    184.000000     0.000000  ...   \n",
       "50%    65535.000000      0.000000    184.000000     0.000000  ...   \n",
       "75%    65535.000000      0.000000    184.000000     0.000000  ...   \n",
       "max    65535.000000  65520.000000  65534.000000     2.000000  ...   \n",
       "\n",
       "           CheckSum    Subsystem  DllCharacteristics  SizeOfStackReserve  \\\n",
       "count  3.888000e+03  3888.000000         3888.000000        3.888000e+03   \n",
       "mean   1.785479e+06     2.132202         9489.058899        2.008231e+06   \n",
       "std    6.906378e+07     0.474741        14841.770405        4.682014e+06   \n",
       "min    0.000000e+00     0.000000            0.000000        0.000000e+00   \n",
       "25%    0.000000e+00     2.000000            0.000000        1.048576e+06   \n",
       "50%    7.894150e+04     2.000000            0.000000        1.048576e+06   \n",
       "75%    2.128122e+05     2.000000        32768.000000        1.048576e+06   \n",
       "max    4.294967e+09    16.000000        37184.000000        3.355443e+07   \n",
       "\n",
       "       SizeOfStackCommit  SizeOfHeapReserve  SizeOfHeapCommit   LoaderFlags  \\\n",
       "count       3.888000e+03       3.888000e+03       3888.000000  3.888000e+03   \n",
       "mean        1.072442e+04       2.065907e+06       5694.156379  3.151187e+04   \n",
       "std         8.256807e+04       4.397444e+06       6510.114435  1.342464e+06   \n",
       "min         0.000000e+00       0.000000e+00          0.000000  0.000000e+00   \n",
       "25%         4.096000e+03       1.048576e+06       4096.000000  0.000000e+00   \n",
       "50%         4.096000e+03       1.048576e+06       4096.000000  0.000000e+00   \n",
       "75%         8.192000e+03       1.048576e+06       4096.000000  0.000000e+00   \n",
       "max         2.097152e+06       3.355443e+07      65536.000000  6.342951e+07   \n",
       "\n",
       "       NumberOfRvaAndSizes        class  \n",
       "count          3888.000000  3888.000000  \n",
       "mean             15.972737     0.517490  \n",
       "std               0.648187     0.499758  \n",
       "min               0.000000     0.000000  \n",
       "25%              16.000000     0.000000  \n",
       "50%              16.000000     1.000000  \n",
       "75%              16.000000     1.000000  \n",
       "max              16.000000     1.000000  \n",
       "\n",
       "[8 rows x 54 columns]"
      ]
     },
     "execution_count": 65,
     "metadata": {},
     "output_type": "execute_result"
    }
   ],
   "source": [
    "data.describe()"
   ]
  },
  {
   "cell_type": "code",
   "execution_count": 12,
   "metadata": {},
   "outputs": [
    {
     "data": {
      "text/plain": [
       "((3888, 53), (3888,))"
      ]
     },
     "execution_count": 12,
     "metadata": {},
     "output_type": "execute_result"
    }
   ],
   "source": [
    "x = data.drop('class', axis = 'columns')\n",
    "y = data['class']\n",
    "x.shape, y.shape"
   ]
  },
  {
   "cell_type": "code",
   "execution_count": 13,
   "metadata": {},
   "outputs": [
    {
     "name": "stdout",
     "output_type": "stream",
     "text": [
      "Original dataset shape Counter({1: 2012, 0: 1876})\n",
      "Resample dataset shape Counter({1: 2012, 0: 2012})\n"
     ]
    }
   ],
   "source": [
    "ros = RandomOverSampler(random_state=42)\n",
    "# fit predictor and target variable\n",
    "x_ros, y_ros = ros.fit_resample(x, y)\n",
    "print('Original dataset shape', Counter(y))\n",
    "print('Resample dataset shape', Counter(y_ros))"
   ]
  },
  {
   "cell_type": "code",
   "execution_count": 14,
   "metadata": {},
   "outputs": [
    {
     "data": {
      "text/plain": [
       "((3499, 53), (389, 53))"
      ]
     },
     "execution_count": 14,
     "metadata": {},
     "output_type": "execute_result"
    }
   ],
   "source": [
    "x_train, x_test, y_train, y_test = train_test_split(x, y, random_state = 42, test_size = 0.1)\n",
    "x_train.shape, x_test.shape"
   ]
  },
  {
   "cell_type": "code",
   "execution_count": 28,
   "metadata": {},
   "outputs": [],
   "source": [
    "std = StandardScaler()\n",
    "x_train_scaled = std.fit_transform(x_train)\n",
    "x_test_scaled = std.fit_transform(x_test)\n"
   ]
  },
  {
   "cell_type": "code",
   "execution_count": 15,
   "metadata": {},
   "outputs": [],
   "source": [
    "def GetBasedModel():\n",
    "    basedModels = []\n",
    "    #basedModels.append(('LR'   , LogisticRegression()))\n",
    "    #basedModels.append(('LDA'  , LinearDiscriminantAnalysis()))\n",
    "    basedModels.append(('KNN'  , KNeighborsClassifier(n_jobs = -1)))\n",
    "    basedModels.append(('CART' , DecisionTreeClassifier()))\n",
    "    #basedModels.append(('NB'   , GaussianNB()))\n",
    "    #basedModels.append(('SVM'  , SVC(probability=True)))\n",
    "    basedModels.append(('AB'   , AdaBoostClassifier()))\n",
    "    basedModels.append(('GBM'  , GradientBoostingClassifier()))\n",
    "    basedModels.append(('RF'   , RandomForestClassifier(n_jobs = -1)))\n",
    "    basedModels.append(('ET'   , ExtraTreesClassifier(n_jobs = -1)))\n",
    "\n",
    "    \n",
    "    return basedModels"
   ]
  },
  {
   "cell_type": "code",
   "execution_count": 16,
   "metadata": {},
   "outputs": [],
   "source": [
    "def BasedLine2(X_train, y_train,models):\n",
    "    # Test options and evaluation metric\n",
    "    num_folds = 5\n",
    "    scoring = 'accuracy'\n",
    "\n",
    "    results = []\n",
    "    names = []\n",
    "    for name, model in models:\n",
    "        kfold = StratifiedKFold(n_splits=num_folds, random_state=SEED)\n",
    "        cv_results = cross_val_score(model, X_train, y_train, cv=kfold, scoring='f1', n_jobs = -1, verbose = 3)\n",
    "        results.append(cv_results)\n",
    "        names.append(name)\n",
    "        msg = \"%s: %f (%f)\" % (name, cv_results.mean(), cv_results.std())\n",
    "        print(msg)\n",
    "        \n",
    "    return names, results"
   ]
  },
  {
   "cell_type": "code",
   "execution_count": 61,
   "metadata": {},
   "outputs": [
    {
     "name": "stderr",
     "output_type": "stream",
     "text": [
      "[Parallel(n_jobs=-1)]: Using backend LokyBackend with 12 concurrent workers.\n",
      "[Parallel(n_jobs=-1)]: Done   2 out of   5 | elapsed:    1.8s remaining:    2.8s\n",
      "[Parallel(n_jobs=-1)]: Done   5 out of   5 | elapsed:    1.8s finished\n",
      "[Parallel(n_jobs=-1)]: Using backend LokyBackend with 12 concurrent workers.\n"
     ]
    },
    {
     "name": "stdout",
     "output_type": "stream",
     "text": [
      "KNN: 0.934598 (0.007310)\n"
     ]
    },
    {
     "name": "stderr",
     "output_type": "stream",
     "text": [
      "[Parallel(n_jobs=-1)]: Done   2 out of   5 | elapsed:    1.3s remaining:    2.0s\n",
      "[Parallel(n_jobs=-1)]: Done   5 out of   5 | elapsed:    1.3s finished\n",
      "[Parallel(n_jobs=-1)]: Using backend LokyBackend with 12 concurrent workers.\n"
     ]
    },
    {
     "name": "stdout",
     "output_type": "stream",
     "text": [
      "CART: 0.968225 (0.006969)\n"
     ]
    },
    {
     "name": "stderr",
     "output_type": "stream",
     "text": [
      "[Parallel(n_jobs=-1)]: Done   2 out of   5 | elapsed:    0.3s remaining:    0.4s\n",
      "[Parallel(n_jobs=-1)]: Done   5 out of   5 | elapsed:    1.3s finished\n",
      "[Parallel(n_jobs=-1)]: Using backend LokyBackend with 12 concurrent workers.\n"
     ]
    },
    {
     "name": "stdout",
     "output_type": "stream",
     "text": [
      "AB: 0.966334 (0.002780)\n"
     ]
    },
    {
     "name": "stderr",
     "output_type": "stream",
     "text": [
      "[Parallel(n_jobs=-1)]: Done   2 out of   5 | elapsed:    0.6s remaining:    0.9s\n",
      "[Parallel(n_jobs=-1)]: Done   5 out of   5 | elapsed:    0.6s finished\n",
      "[Parallel(n_jobs=-1)]: Using backend LokyBackend with 12 concurrent workers.\n"
     ]
    },
    {
     "name": "stdout",
     "output_type": "stream",
     "text": [
      "GBM: 0.977216 (0.003001)\n"
     ]
    },
    {
     "name": "stderr",
     "output_type": "stream",
     "text": [
      "[Parallel(n_jobs=-1)]: Done   2 out of   5 | elapsed:    0.2s remaining:    0.3s\n",
      "[Parallel(n_jobs=-1)]: Done   5 out of   5 | elapsed:    0.2s finished\n",
      "[Parallel(n_jobs=-1)]: Using backend LokyBackend with 12 concurrent workers.\n"
     ]
    },
    {
     "name": "stdout",
     "output_type": "stream",
     "text": [
      "RF: 0.984198 (0.003806)\n",
      "ET: 0.981216 (0.005487)\n"
     ]
    },
    {
     "name": "stderr",
     "output_type": "stream",
     "text": [
      "[Parallel(n_jobs=-1)]: Done   2 out of   5 | elapsed:    0.1s remaining:    0.2s\n",
      "[Parallel(n_jobs=-1)]: Done   5 out of   5 | elapsed:    0.1s finished\n"
     ]
    }
   ],
   "source": [
    "models = GetBasedModel()\n",
    "names,results = BasedLine2(x_ros, y_ros,models)\n"
   ]
  },
  {
   "cell_type": "code",
   "execution_count": 64,
   "metadata": {},
   "outputs": [
    {
     "data": {
      "text/plain": [
       "0.9715698393077874"
      ]
     },
     "execution_count": 64,
     "metadata": {},
     "output_type": "execute_result"
    }
   ],
   "source": [
    "results[2].max()"
   ]
  },
  {
   "cell_type": "code",
   "execution_count": 74,
   "metadata": {},
   "outputs": [
    {
     "name": "stderr",
     "output_type": "stream",
     "text": [
      "[Parallel(n_jobs=-1)]: Using backend LokyBackend with 12 concurrent workers.\n",
      "[Parallel(n_jobs=-1)]: Done   2 out of   5 | elapsed:    0.0s remaining:    0.0s\n",
      "[Parallel(n_jobs=-1)]: Done   5 out of   5 | elapsed:    0.0s finished\n"
     ]
    },
    {
     "name": "stdout",
     "output_type": "stream",
     "text": [
      "KNN: 0.935078 (0.017047)\n",
      "CART: 0.966297 (0.006456)\n"
     ]
    },
    {
     "name": "stderr",
     "output_type": "stream",
     "text": [
      "[Parallel(n_jobs=-1)]: Using backend LokyBackend with 12 concurrent workers.\n",
      "[Parallel(n_jobs=-1)]: Done   2 out of   5 | elapsed:    0.0s remaining:    0.0s\n",
      "[Parallel(n_jobs=-1)]: Done   5 out of   5 | elapsed:    0.0s finished\n",
      "[Parallel(n_jobs=-1)]: Using backend LokyBackend with 12 concurrent workers.\n",
      "[Parallel(n_jobs=-1)]: Done   2 out of   5 | elapsed:    0.1s remaining:    0.2s\n",
      "[Parallel(n_jobs=-1)]: Done   5 out of   5 | elapsed:    0.1s finished\n",
      "[Parallel(n_jobs=-1)]: Using backend LokyBackend with 12 concurrent workers.\n"
     ]
    },
    {
     "name": "stdout",
     "output_type": "stream",
     "text": [
      "AB: 0.966981 (0.007376)\n"
     ]
    },
    {
     "name": "stderr",
     "output_type": "stream",
     "text": [
      "[Parallel(n_jobs=-1)]: Done   2 out of   5 | elapsed:    0.5s remaining:    0.8s\n",
      "[Parallel(n_jobs=-1)]: Done   5 out of   5 | elapsed:    0.5s finished\n",
      "[Parallel(n_jobs=-1)]: Using backend LokyBackend with 12 concurrent workers.\n"
     ]
    },
    {
     "name": "stdout",
     "output_type": "stream",
     "text": [
      "GBM: 0.973569 (0.008667)\n"
     ]
    },
    {
     "name": "stderr",
     "output_type": "stream",
     "text": [
      "[Parallel(n_jobs=-1)]: Done   2 out of   5 | elapsed:    0.1s remaining:    0.3s\n",
      "[Parallel(n_jobs=-1)]: Done   5 out of   5 | elapsed:    0.1s finished\n",
      "[Parallel(n_jobs=-1)]: Using backend LokyBackend with 12 concurrent workers.\n"
     ]
    },
    {
     "name": "stdout",
     "output_type": "stream",
     "text": [
      "RF: 0.982685 (0.001791)\n",
      "ET: 0.980457 (0.005006)\n"
     ]
    },
    {
     "name": "stderr",
     "output_type": "stream",
     "text": [
      "[Parallel(n_jobs=-1)]: Done   2 out of   5 | elapsed:    0.1s remaining:    0.2s\n",
      "[Parallel(n_jobs=-1)]: Done   5 out of   5 | elapsed:    0.1s finished\n"
     ]
    }
   ],
   "source": [
    "models = GetBasedModel()\n",
    "names,results = BasedLine2(x_train, y_train,models)"
   ]
  },
  {
   "cell_type": "code",
   "execution_count": 50,
   "metadata": {},
   "outputs": [
    {
     "name": "stdout",
     "output_type": "stream",
     "text": [
      "Fitting 5 folds for each of 10 candidates, totalling 50 fits\n"
     ]
    },
    {
     "name": "stderr",
     "output_type": "stream",
     "text": [
      "[Parallel(n_jobs=-1)]: Using backend LokyBackend with 12 concurrent workers.\n",
      "[Parallel(n_jobs=-1)]: Done  17 tasks      | elapsed:    4.4s\n",
      "[Parallel(n_jobs=-1)]: Done  50 out of  50 | elapsed:   10.0s finished\n"
     ]
    },
    {
     "data": {
      "text/plain": [
       "0.9836003213744939"
      ]
     },
     "execution_count": 50,
     "metadata": {},
     "output_type": "execute_result"
    }
   ],
   "source": [
    "rf_tuner = RandomForestClassifier(n_jobs = -1)\n",
    "param_grid = { \n",
    "    'n_estimators': [500, 600, 800],\n",
    "    'max_features': ['auto', 'sqrt', 'log2'],\n",
    "    'max_depth' : [4,5,6,7,8, None],\n",
    "    'criterion' :['gini', 'entropy'],\n",
    "    'min_samples_split':[1, 2, 3],\n",
    "    'min_samples_leaf':[1, 2, 3],\n",
    "    'bootstrap':[True, False]\n",
    "}\n",
    "CV_rfc.fit(x_ros, y_ros)\n",
    "CV_rfc.best_score_\n",
    "\n",
    "\n"
   ]
  },
  {
   "cell_type": "code",
   "execution_count": 51,
   "metadata": {},
   "outputs": [
    {
     "data": {
      "text/plain": [
       "{'n_estimators': 500,\n",
       " 'min_samples_split': 2,\n",
       " 'min_samples_leaf': 3,\n",
       " 'max_features': 'sqrt',\n",
       " 'max_depth': None,\n",
       " 'criterion': 'entropy',\n",
       " 'bootstrap': False}"
      ]
     },
     "execution_count": 51,
     "metadata": {},
     "output_type": "execute_result"
    }
   ],
   "source": [
    "CV_rfc.best_params_"
   ]
  },
  {
   "cell_type": "code",
   "execution_count": 19,
   "metadata": {},
   "outputs": [
    {
     "name": "stdout",
     "output_type": "stream",
     "text": [
      "              precision    recall  f1-score   support\n",
      "\n",
      "           0       0.99      0.98      0.99       187\n",
      "           1       0.98      1.00      0.99       202\n",
      "\n",
      "    accuracy                           0.99       389\n",
      "   macro avg       0.99      0.99      0.99       389\n",
      "weighted avg       0.99      0.99      0.99       389\n",
      "\n"
     ]
    }
   ],
   "source": [
    "rfc_tuned = RandomForestClassifier(n_estimators= 500,\n",
    " min_samples_split= 5,\n",
    " min_samples_leaf= 1,\n",
    " max_features= 'log2',\n",
    " max_depth=None,\n",
    " criterion= 'entropy',\n",
    " bootstrap=False)\n",
    "rfc_tuned.fit(x_train, y_train)\n",
    "rfc_tuned_pred = rfc_tuned.predict(x_test)\n",
    "rfc_report = classification_report(y_test, rfc_tuned_pred)\n",
    "print(rfc_report)"
   ]
  },
  {
   "cell_type": "code",
   "execution_count": 20,
   "metadata": {},
   "outputs": [
    {
     "name": "stdout",
     "output_type": "stream",
     "text": [
      "              precision    recall  f1-score   support\n",
      "\n",
      "           0       0.99      0.98      0.99       187\n",
      "           1       0.98      1.00      0.99       202\n",
      "\n",
      "    accuracy                           0.99       389\n",
      "   macro avg       0.99      0.99      0.99       389\n",
      "weighted avg       0.99      0.99      0.99       389\n",
      "\n"
     ]
    }
   ],
   "source": [
    "\n",
    "\n",
    "et = ExtraTreesClassifier(n_jobs = -1)\n",
    "et.fit(x_train, y_train)\n",
    "et_pred = et.predict(x_test)\n",
    "et_report = classification_report(y_test, et_pred)\n",
    "print(et_report)\n"
   ]
  },
  {
   "cell_type": "code",
   "execution_count": 60,
   "metadata": {},
   "outputs": [
    {
     "name": "stdout",
     "output_type": "stream",
     "text": [
      "              precision    recall  f1-score   support\n",
      "\n",
      "           0       0.99      0.98      0.99       187\n",
      "           1       0.98      1.00      0.99       202\n",
      "\n",
      "    accuracy                           0.99       389\n",
      "   macro avg       0.99      0.99      0.99       389\n",
      "weighted avg       0.99      0.99      0.99       389\n",
      "\n"
     ]
    }
   ],
   "source": [
    "gb = GradientBoostingClassifier()\n",
    "gb.fit(x_ros, y_ros)\n",
    "gb_pred = gb.predict(x_test)\n",
    "gb_report = classification_report(y_test, et_pred)\n",
    "print(et_report)\n"
   ]
  },
  {
   "cell_type": "code",
   "execution_count": 52,
   "metadata": {},
   "outputs": [
    {
     "data": {
      "text/plain": [
       "ExtraTreesClassifier(n_jobs=-1)"
      ]
     },
     "execution_count": 52,
     "metadata": {},
     "output_type": "execute_result"
    }
   ],
   "source": [
    "gb.fit(x_ros, y_ros)\n",
    "et.fit(x_ros, y_ros)"
   ]
  },
  {
   "cell_type": "code",
   "execution_count": 53,
   "metadata": {},
   "outputs": [],
   "source": [
    "voting_clf = VotingClassifier(estimators=[('RFC', rfc_tuned), ('ETC', et),('GBC', gb) ], voting='hard', n_jobs = -1)\n",
    "voting_clf.fit(x_ros, y_ros)\n",
    "preds = voting_clf.predict(x_test)\n",
    "acc = accuracy_score(y_test, preds)\n",
    "#l_loss = log_loss(y_test, preds)\n",
    "f1 = f1_score(y_test, preds)"
   ]
  },
  {
   "cell_type": "code",
   "execution_count": 54,
   "metadata": {},
   "outputs": [
    {
     "data": {
      "text/plain": [
       "1.0"
      ]
     },
     "execution_count": 54,
     "metadata": {},
     "output_type": "execute_result"
    }
   ],
   "source": [
    "f1"
   ]
  },
  {
   "cell_type": "code",
   "execution_count": 43,
   "metadata": {},
   "outputs": [
    {
     "data": {
      "text/plain": [
       "RandomForestClassifier(bootstrap=False, criterion='entropy',\n",
       "                       max_features='log2', min_samples_split=5,\n",
       "                       n_estimators=500)"
      ]
     },
     "execution_count": 43,
     "metadata": {},
     "output_type": "execute_result"
    }
   ],
   "source": [
    "rfc_tuned.fit(x_ros, y_ros)\n"
   ]
  },
  {
   "cell_type": "code",
   "execution_count": 28,
   "metadata": {
    "collapsed": true
   },
   "outputs": [
    {
     "data": {
      "text/plain": [
       "e_magic                           0\n",
       "e_cblp                            0\n",
       "e_cp                              0\n",
       "e_crlc                            0\n",
       "e_cparhdr                         0\n",
       "e_minalloc                        0\n",
       "e_maxalloc                        0\n",
       "e_ss                              0\n",
       "e_sp                              0\n",
       "e_csum                            0\n",
       "e_ip                              0\n",
       "e_cs                              0\n",
       "e_lfarlc                          0\n",
       "e_ovno                            0\n",
       "e_res                          1296\n",
       "e_oemid                           0\n",
       "e_oeminfo                         0\n",
       "e_res2                         1296\n",
       "e_lfanew                          0\n",
       "Machine                           0\n",
       "NumberOfSections                  0\n",
       "CreationYear                      0\n",
       "PointerToSymbolTable              0\n",
       "NumberOfSymbols                   0\n",
       "SizeOfOptionalHeader              0\n",
       "Characteristics                   0\n",
       "Magic                             0\n",
       "MajorLinkerVersion                0\n",
       "MinorLinkerVersion                0\n",
       "SizeOfCode                        0\n",
       "SizeOfInitializedData             0\n",
       "SizeOfUninitializedData           0\n",
       "AddressOfEntryPoint               0\n",
       "BaseOfCode                        0\n",
       "BaseOfData                        0\n",
       "ImageBase                         0\n",
       "SectionAlignment                  0\n",
       "FileAlignment                     0\n",
       "MajorOperatingSystemVersion       0\n",
       "MinorOperatingSystemVersion       0\n",
       "MajorImageVersion                 0\n",
       "MinorImageVersion                 0\n",
       "MajorSubsystemVersion             0\n",
       "MinorSubsystemVersion             0\n",
       "SizeOfImage                       0\n",
       "SizeOfHeaders                     0\n",
       "CheckSum                          0\n",
       "Subsystem                         0\n",
       "DllCharacteristics                0\n",
       "SizeOfStackReserve                0\n",
       "SizeOfStackCommit                 0\n",
       "SizeOfHeapReserve                 0\n",
       "SizeOfHeapCommit                  0\n",
       "LoaderFlags                       0\n",
       "NumberOfRvaAndSizes               0\n",
       "dtype: int64"
      ]
     },
     "execution_count": 28,
     "metadata": {},
     "output_type": "execute_result"
    }
   ],
   "source": [
    "test = pd.read_csv('test.csv')\n",
    "test.isnull().sum()"
   ]
  },
  {
   "cell_type": "code",
   "execution_count": 29,
   "metadata": {},
   "outputs": [
    {
     "data": {
      "text/plain": [
       "(1296, 53)"
      ]
     },
     "execution_count": 29,
     "metadata": {},
     "output_type": "execute_result"
    }
   ],
   "source": [
    "test.drop(columns = ['e_res', 'e_res2'], inplace = True, axis = 'columns')\n",
    "test.shape"
   ]
  },
  {
   "cell_type": "code",
   "execution_count": 55,
   "metadata": {},
   "outputs": [],
   "source": [
    "preds = voting_clf.predict(test)"
   ]
  },
  {
   "cell_type": "code",
   "execution_count": 44,
   "metadata": {},
   "outputs": [],
   "source": [
    "preds = rfc_tuned.predict(test)"
   ]
  },
  {
   "cell_type": "code",
   "execution_count": 56,
   "metadata": {},
   "outputs": [],
   "source": [
    "predictions = pd.DataFrame({'prediction':preds})\n",
    "predictions.to_csv('preds.csv', index = False)"
   ]
  },
  {
   "cell_type": "code",
   "execution_count": 57,
   "metadata": {},
   "outputs": [
    {
     "name": "stdout",
     "output_type": "stream",
     "text": [
      "Fitting 5 folds for each of 10 candidates, totalling 50 fits\n"
     ]
    },
    {
     "name": "stderr",
     "output_type": "stream",
     "text": [
      "[Parallel(n_jobs=-1)]: Using backend LokyBackend with 12 concurrent workers.\n",
      "[Parallel(n_jobs=-1)]: Done  17 tasks      | elapsed:    9.9s\n",
      "[Parallel(n_jobs=-1)]: Done  50 out of  50 | elapsed:   19.1s finished\n"
     ]
    },
    {
     "data": {
      "text/plain": [
       "0.985090077562498"
      ]
     },
     "execution_count": 57,
     "metadata": {},
     "output_type": "execute_result"
    }
   ],
   "source": [
    "gbc = GradientBoostingClassifier()\n",
    "parameters = {\n",
    "    'n_estimators': [80, 90, 100, 125, 150, 200, 250, 300, 350, 400],\n",
    "    'max_depth': [2,3,4,5,8,16,None],\n",
    "    'learning_rate': [0.03, 0.1, 0.3, 0.5, 0.8]\n",
    "}\n",
    "gbm_cv = RandomizedSearchCV(gbc, parameters, cv=5, n_jobs = -1, verbose = 2)\n",
    "gbm_cv.fit(x_ros, y_ros)\n",
    "gbm_cv.best_score_"
   ]
  },
  {
   "cell_type": "code",
   "execution_count": 58,
   "metadata": {},
   "outputs": [
    {
     "data": {
      "text/plain": [
       "{'n_estimators': 400, 'max_depth': 8, 'learning_rate': 0.1}"
      ]
     },
     "execution_count": 58,
     "metadata": {},
     "output_type": "execute_result"
    }
   ],
   "source": [
    "gbm_cv.best_params_"
   ]
  },
  {
   "cell_type": "code",
   "execution_count": null,
   "metadata": {},
   "outputs": [],
   "source": []
  }
 ],
 "metadata": {
  "kernelspec": {
   "display_name": "Python 3",
   "language": "python",
   "name": "python3"
  },
  "language_info": {
   "codemirror_mode": {
    "name": "ipython",
    "version": 3
   },
   "file_extension": ".py",
   "mimetype": "text/x-python",
   "name": "python",
   "nbconvert_exporter": "python",
   "pygments_lexer": "ipython3",
   "version": "3.7.9"
  }
 },
 "nbformat": 4,
 "nbformat_minor": 4
}
